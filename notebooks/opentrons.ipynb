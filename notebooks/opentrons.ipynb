{
 "cells": [
  {
   "cell_type": "code",
   "execution_count": 2,
   "metadata": {},
   "outputs": [],
   "source": [
    "\n",
    "import opentrons.simulate as simulate\n",
    "from opentrons.protocols import bundle\n",
    "import io\n",
    "import sys\n"
   ]
  },
  {
   "cell_type": "code",
   "execution_count": 3,
   "metadata": {},
   "outputs": [],
   "source": [
    "protocol = io.StringIO()\n",
    "\n",
    "\n",
    "protocol.write(\"\"\"\n",
    "from opentrons import protocol_api\n",
    "\n",
    "# metadata\n",
    "metadata = {\n",
    "    'protocolName': 'My Protocol',\n",
    "    'author': 'Name <opentrons@example.com>',\n",
    "    'description': 'Simple protocol to get started using the OT-2',\n",
    "    'apiLevel': '2.12'\n",
    "}\n",
    "\n",
    "\n",
    "\n",
    "# protocol run function\n",
    "def run(protocol: protocol_api.ProtocolContext):\n",
    "\n",
    "    # labware\n",
    "    plate = protocol.load_labware('corning_96_wellplate_360ul_flat', location='1')\n",
    "    tiprack = protocol.load_labware('opentrons_96_tiprack_300ul', location='2')\n",
    "\n",
    "    # pipettes\n",
    "    left_pipette = protocol.load_instrument(\n",
    "         'p300_single', mount='left', tip_racks=[tiprack])\n",
    "\n",
    "    # commands\n",
    "    left_pipette.pick_up_tip()\n",
    "    left_pipette.aspirate(100, plate['A1'])\n",
    "    left_pipette.dispense(100, plate['B2'])\n",
    "    left_pipette.drop_tip()\n",
    "\"\"\")\n",
    "\n",
    "with open(\"my_protocol.py\", \"w\") as f:\n",
    "    f.write(protocol.getvalue())"
   ]
  },
  {
   "cell_type": "code",
   "execution_count": 15,
   "metadata": {},
   "outputs": [
    {
     "name": "stdout",
     "output_type": "stream",
     "text": [
      "Picking up tip from A1 of Opentrons 96 Tip Rack 300 µL on 2\n",
      "Aspirating 100.0 uL from A1 of Corning 96 Well Plate 360 µL Flat on 1 at 150.0 uL/sec\n",
      "Dispensing 100.0 uL into B2 of Corning 96 Well Plate 360 µL Flat on 1 at 300.0 uL/sec\n",
      "Dropping tip into A1 of Opentrons Fixed Trash on 12\n"
     ]
    }
   ],
   "source": [
    "sys.argv=[]\n",
    "\"\"\"Run the simulation\"\"\"\n",
    "# parser = argparse.ArgumentParser(\n",
    "#     prog=\"opentrons_simulate\", description=\"Simulate an OT-2 protocol\"\n",
    "# )\n",
    "# parser = simulate.get_arguments(parser)\n",
    "\n",
    "# args = parser.parse_args()\n",
    "# Try to migrate api v1 containers if needed\n",
    "\n",
    "#duration_estimator = DurationEstimator() if args.estimate_duration else None  # type: ignore[no-untyped-call]\n",
    "duration_estimator = None\n",
    "\n",
    "with open(\"my_protocol.py\", \"r\") as protocol:\n",
    "    runlog, maybe_bundle = simulate.simulate(\n",
    "        protocol,\n",
    "        # args.protocol.name,\n",
    "        # getattr(args, \"custom_labware_path\", []),\n",
    "        # getattr(args, \"custom_data_path\", []) + getattr(args, \"custom_data_file\", []),\n",
    "        # duration_estimator=duration_estimator,\n",
    "        # hardware_simulator_file_path=getattr(args, \"custom_hardware_simulator_file\"),\n",
    "        # log_level=args.log_level,\n",
    "    )\n",
    "\n",
    "if maybe_bundle:\n",
    "    bundle_name = \"bundle\" # getattr(args, \"bundle\", None)\n",
    "    # if bundle_name == args.protocol.name:\n",
    "    #     raise RuntimeError(\"Bundle path and input path must be different\")\n",
    "    bundle_dest = simulate._get_bundle_dest(\n",
    "        bundle_name, \"PROTOCOL.ot2.zip\", \"my_protocol\" #args.protocol.name\n",
    "    )\n",
    "    if bundle_dest:\n",
    "        bundle.create_bundle(maybe_bundle, bundle_dest)\n",
    "\n",
    "# if args.output == \"runlog\":\n",
    "print(simulate.format_runlog(runlog))\n",
    "\n",
    "if duration_estimator:\n",
    "    duration_seconds = duration_estimator.get_total_duration()\n",
    "    hours = int(duration_seconds / 60 / 60)\n",
    "    minutes = int((duration_seconds % (60 * 60)) / 60)\n",
    "    print(\"--------------------------------------------------------------\")\n",
    "    print(f\"Estimated protocol duration: {hours}h:{minutes}m\")\n",
    "    print(\"--------------------------------------------------------------\")\n",
    "    print(\"WARNING: Protocol duration estimation is an experimental feature\")\n",
    "\n"
   ]
  },
  {
   "cell_type": "code",
   "execution_count": 16,
   "metadata": {},
   "outputs": [
    {
     "data": {
      "text/plain": [
       "[{'level': 0,\n",
       "  'payload': {'instrument': <InstrumentContext: p300_single_v1 in LEFT>,\n",
       "   'location': A1 of Opentrons 96 Tip Rack 300 µL on 2,\n",
       "   'text': 'Picking up tip from A1 of Opentrons 96 Tip Rack 300 µL on 2'},\n",
       "  'logs': []},\n",
       " {'level': 0,\n",
       "  'payload': {'instrument': <InstrumentContext: p300_single_v1 in LEFT>,\n",
       "   'volume': 100,\n",
       "   'location': Location(point=Point(x=14.38, y=74.24, z=4.549999999999999), labware=A1 of Corning 96 Well Plate 360 µL Flat on 1),\n",
       "   'rate': 1.0,\n",
       "   'text': 'Aspirating 100.0 uL from A1 of Corning 96 Well Plate 360 µL Flat on 1 at 150.0 uL/sec'},\n",
       "  'logs': []},\n",
       " {'level': 0,\n",
       "  'payload': {'instrument': <InstrumentContext: p300_single_v1 in LEFT>,\n",
       "   'volume': 100,\n",
       "   'location': Location(point=Point(x=23.38, y=65.24, z=4.549999999999999), labware=B2 of Corning 96 Well Plate 360 µL Flat on 1),\n",
       "   'rate': 1.0,\n",
       "   'text': 'Dispensing 100.0 uL into B2 of Corning 96 Well Plate 360 µL Flat on 1 at 300.0 uL/sec'},\n",
       "  'logs': []},\n",
       " {'level': 0,\n",
       "  'payload': {'instrument': <InstrumentContext: p300_single_v1 in LEFT>,\n",
       "   'location': Location(point=Point(x=347.84000000000003, y=351.5, z=82.0), labware=A1 of Opentrons Fixed Trash on 12),\n",
       "   'text': 'Dropping tip into A1 of Opentrons Fixed Trash on 12'},\n",
       "  'logs': []}]"
      ]
     },
     "execution_count": 16,
     "metadata": {},
     "output_type": "execute_result"
    }
   ],
   "source": [
    "runlog"
   ]
  }
 ],
 "metadata": {
  "kernelspec": {
   "display_name": "Python 3.9.13 ('pamlEd-cU7BSnf9')",
   "language": "python",
   "name": "python3"
  },
  "language_info": {
   "codemirror_mode": {
    "name": "ipython",
    "version": 3
   },
   "file_extension": ".py",
   "mimetype": "text/x-python",
   "name": "python",
   "nbconvert_exporter": "python",
   "pygments_lexer": "ipython3",
   "version": "3.9.13"
  },
  "orig_nbformat": 4,
  "vscode": {
   "interpreter": {
    "hash": "ccb7b427e78b0685d94987477719f6b96951572a8218905083eb04df8abe61a0"
   }
  }
 },
 "nbformat": 4,
 "nbformat_minor": 2
}
